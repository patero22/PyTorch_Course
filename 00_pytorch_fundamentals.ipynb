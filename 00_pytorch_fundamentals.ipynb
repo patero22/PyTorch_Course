{
  "nbformat": 4,
  "nbformat_minor": 0,
  "metadata": {
    "colab": {
      "provenance": [],
      "authorship_tag": "ABX9TyPIsy2izf+cYrUImB8uI6jx",
      "include_colab_link": true
    },
    "kernelspec": {
      "name": "python3",
      "display_name": "Python 3"
    },
    "language_info": {
      "name": "python"
    }
  },
  "cells": [
    {
      "cell_type": "markdown",
      "metadata": {
        "id": "view-in-github",
        "colab_type": "text"
      },
      "source": [
        "<a href=\"https://colab.research.google.com/github/patero22/PyTorch_Course/blob/main/00_pytorch_fundamentals.ipynb\" target=\"_parent\"><img src=\"https://colab.research.google.com/assets/colab-badge.svg\" alt=\"Open In Colab\"/></a>"
      ]
    },
    {
      "cell_type": "markdown",
      "source": [
        "## 00 PyTorch Fundamentals\n",
        "resource notebook: https://www.learnpytorch.io/00_pytorch_fundamentals/\n",
        "\n",
        "Questions on github/discussions"
      ],
      "metadata": {
        "id": "O4CiqHZG4D1D"
      }
    },
    {
      "cell_type": "code",
      "source": [
        "print(\"Pytorch\")"
      ],
      "metadata": {
        "colab": {
          "base_uri": "https://localhost:8080/"
        },
        "id": "ac53C0pv4zBg",
        "outputId": "fc7156cb-f235-4d8a-a4e7-bfbb89e7d2be"
      },
      "execution_count": 3,
      "outputs": [
        {
          "output_type": "stream",
          "name": "stdout",
          "text": [
            "Pytorch\n"
          ]
        }
      ]
    },
    {
      "cell_type": "code",
      "source": [
        "!/usr/local/cuda/bin/nvcc --version\n"
      ],
      "metadata": {
        "colab": {
          "base_uri": "https://localhost:8080/"
        },
        "id": "9MtvonN51VnA",
        "outputId": "a59533b5-86c1-44e8-b4eb-ccad530f142e"
      },
      "execution_count": 4,
      "outputs": [
        {
          "output_type": "stream",
          "name": "stdout",
          "text": [
            "nvcc: NVIDIA (R) Cuda compiler driver\n",
            "Copyright (c) 2005-2023 NVIDIA Corporation\n",
            "Built on Tue_Aug_15_22:02:13_PDT_2023\n",
            "Cuda compilation tools, release 12.2, V12.2.140\n",
            "Build cuda_12.2.r12.2/compiler.33191640_0\n"
          ]
        }
      ]
    },
    {
      "cell_type": "code",
      "source": [
        "!nvidia-smi #zmienione w runtime type na t4 gpu"
      ],
      "metadata": {
        "colab": {
          "base_uri": "https://localhost:8080/"
        },
        "id": "WV7Q8-ao3Ftq",
        "outputId": "b9df489a-8f20-4123-c20d-9459e9fed8fb"
      },
      "execution_count": 5,
      "outputs": [
        {
          "output_type": "stream",
          "name": "stdout",
          "text": [
            "/bin/bash: line 1: nvidia-smi: command not found\n"
          ]
        }
      ]
    },
    {
      "cell_type": "code",
      "source": [
        "import pandas as pd\n",
        "import numpy as np\n",
        "import matplotlib.pyplot as plt\n",
        "import torch\n",
        "print(torch.__version__)\n"
      ],
      "metadata": {
        "colab": {
          "base_uri": "https://localhost:8080/"
        },
        "id": "oC_fJe_K3lN1",
        "outputId": "b2be437d-4180-48d4-e68f-918e08c37931"
      },
      "execution_count": 6,
      "outputs": [
        {
          "output_type": "stream",
          "name": "stdout",
          "text": [
            "2.3.0+cu121\n"
          ]
        }
      ]
    },
    {
      "cell_type": "markdown",
      "source": [
        "## Introduction to tensors\n",
        "Creating tensors\n",
        "\n",
        "PyTorch tensor are created using 'troch.Tensor()' -= https://pytorch.org/docs/stable/tensors.html"
      ],
      "metadata": {
        "id": "336FKeOE6aWv"
      }
    },
    {
      "cell_type": "code",
      "source": [
        "#scalar\n",
        "scalar = torch.tensor(7)\n",
        "scalar"
      ],
      "metadata": {
        "colab": {
          "base_uri": "https://localhost:8080/"
        },
        "id": "_yv1NNtn6j2h",
        "outputId": "ef67a7f4-3272-4982-e487-1747843da585"
      },
      "execution_count": 7,
      "outputs": [
        {
          "output_type": "execute_result",
          "data": {
            "text/plain": [
              "tensor(7)"
            ]
          },
          "metadata": {},
          "execution_count": 7
        }
      ]
    },
    {
      "cell_type": "code",
      "source": [
        "scalar.ndim"
      ],
      "metadata": {
        "colab": {
          "base_uri": "https://localhost:8080/"
        },
        "id": "3sk7MPy36nsJ",
        "outputId": "0443a35b-2b62-461e-bf4c-06f09d38d874"
      },
      "execution_count": 8,
      "outputs": [
        {
          "output_type": "execute_result",
          "data": {
            "text/plain": [
              "0"
            ]
          },
          "metadata": {},
          "execution_count": 8
        }
      ]
    },
    {
      "cell_type": "code",
      "source": [
        "# Get tensor back as Python int\n",
        "scalar.item()"
      ],
      "metadata": {
        "colab": {
          "base_uri": "https://localhost:8080/"
        },
        "id": "HhNbfpn37Gpn",
        "outputId": "5b881096-5113-40be-d858-d81927673274"
      },
      "execution_count": 9,
      "outputs": [
        {
          "output_type": "execute_result",
          "data": {
            "text/plain": [
              "7"
            ]
          },
          "metadata": {},
          "execution_count": 9
        }
      ]
    },
    {
      "cell_type": "code",
      "source": [
        "#Vector\n",
        "vector = torch.tensor([7,7])\n",
        "vector"
      ],
      "metadata": {
        "colab": {
          "base_uri": "https://localhost:8080/"
        },
        "id": "Ke6wLUZW7hKq",
        "outputId": "5f999b23-3b89-4ce2-d672-7671079ec9e1"
      },
      "execution_count": 10,
      "outputs": [
        {
          "output_type": "execute_result",
          "data": {
            "text/plain": [
              "tensor([7, 7])"
            ]
          },
          "metadata": {},
          "execution_count": 10
        }
      ]
    },
    {
      "cell_type": "code",
      "source": [
        "vector.ndim"
      ],
      "metadata": {
        "colab": {
          "base_uri": "https://localhost:8080/"
        },
        "id": "5Xg7KsAt71Iw",
        "outputId": "13305d2c-c098-469d-e400-e4b3ea59c87f"
      },
      "execution_count": 11,
      "outputs": [
        {
          "output_type": "execute_result",
          "data": {
            "text/plain": [
              "1"
            ]
          },
          "metadata": {},
          "execution_count": 11
        }
      ]
    },
    {
      "cell_type": "code",
      "source": [
        "vector.shape"
      ],
      "metadata": {
        "colab": {
          "base_uri": "https://localhost:8080/"
        },
        "id": "roKgcmCi72YN",
        "outputId": "0b6d2e79-65d2-4420-8632-7f9b9965168e"
      },
      "execution_count": 12,
      "outputs": [
        {
          "output_type": "execute_result",
          "data": {
            "text/plain": [
              "torch.Size([2])"
            ]
          },
          "metadata": {},
          "execution_count": 12
        }
      ]
    },
    {
      "cell_type": "code",
      "source": [
        "# MATRIX\n",
        "MATRIX = torch.tensor([[7,8],\n",
        "                        [9,10]])\n",
        "MATRIX"
      ],
      "metadata": {
        "colab": {
          "base_uri": "https://localhost:8080/"
        },
        "id": "-_7XVRkB77He",
        "outputId": "9a44bfa3-1d9d-44bf-cc2a-4ec41987fe4c"
      },
      "execution_count": 13,
      "outputs": [
        {
          "output_type": "execute_result",
          "data": {
            "text/plain": [
              "tensor([[ 7,  8],\n",
              "        [ 9, 10]])"
            ]
          },
          "metadata": {},
          "execution_count": 13
        }
      ]
    },
    {
      "cell_type": "code",
      "source": [
        "MATRIX.ndim"
      ],
      "metadata": {
        "colab": {
          "base_uri": "https://localhost:8080/"
        },
        "id": "z5cadXgd8MpT",
        "outputId": "1fd183fc-14f2-4b27-f725-340b43139311"
      },
      "execution_count": 14,
      "outputs": [
        {
          "output_type": "execute_result",
          "data": {
            "text/plain": [
              "2"
            ]
          },
          "metadata": {},
          "execution_count": 14
        }
      ]
    },
    {
      "cell_type": "code",
      "source": [
        "MATRIX.shape"
      ],
      "metadata": {
        "colab": {
          "base_uri": "https://localhost:8080/"
        },
        "id": "vXt7RUCc8Spd",
        "outputId": "abda68c2-5803-4f06-b73b-12989b92b0da"
      },
      "execution_count": 15,
      "outputs": [
        {
          "output_type": "execute_result",
          "data": {
            "text/plain": [
              "torch.Size([2, 2])"
            ]
          },
          "metadata": {},
          "execution_count": 15
        }
      ]
    },
    {
      "cell_type": "code",
      "source": [
        "# Tensor\n",
        "TENSOR = torch.tensor([[[1,2,3],\n",
        "                        [4,5,6],\n",
        "                        [7,8,9]]])\n",
        "\n",
        "TENSOR"
      ],
      "metadata": {
        "colab": {
          "base_uri": "https://localhost:8080/"
        },
        "id": "ZhudR6_P8Ynr",
        "outputId": "99c38642-fb6e-40ac-8ae3-0350ee4b0f7c"
      },
      "execution_count": 16,
      "outputs": [
        {
          "output_type": "execute_result",
          "data": {
            "text/plain": [
              "tensor([[[1, 2, 3],\n",
              "         [4, 5, 6],\n",
              "         [7, 8, 9]]])"
            ]
          },
          "metadata": {},
          "execution_count": 16
        }
      ]
    },
    {
      "cell_type": "code",
      "source": [
        "TENSOR.ndim"
      ],
      "metadata": {
        "colab": {
          "base_uri": "https://localhost:8080/"
        },
        "id": "6TcSP-UT82bs",
        "outputId": "8487898d-5490-4867-ce2f-4390e9486568"
      },
      "execution_count": 17,
      "outputs": [
        {
          "output_type": "execute_result",
          "data": {
            "text/plain": [
              "3"
            ]
          },
          "metadata": {},
          "execution_count": 17
        }
      ]
    },
    {
      "cell_type": "code",
      "source": [
        "TENSOR.shape"
      ],
      "metadata": {
        "colab": {
          "base_uri": "https://localhost:8080/"
        },
        "id": "xWnWIF1n89RS",
        "outputId": "63780560-49ab-41f8-eb72-6097c5b9f485"
      },
      "execution_count": 18,
      "outputs": [
        {
          "output_type": "execute_result",
          "data": {
            "text/plain": [
              "torch.Size([1, 3, 3])"
            ]
          },
          "metadata": {},
          "execution_count": 18
        }
      ]
    },
    {
      "cell_type": "code",
      "source": [
        "TENSOR[0]"
      ],
      "metadata": {
        "colab": {
          "base_uri": "https://localhost:8080/"
        },
        "id": "AFTXJs058-R3",
        "outputId": "8648d74f-26b5-4c6b-beeb-ba9604ebed72"
      },
      "execution_count": 19,
      "outputs": [
        {
          "output_type": "execute_result",
          "data": {
            "text/plain": [
              "tensor([[1, 2, 3],\n",
              "        [4, 5, 6],\n",
              "        [7, 8, 9]])"
            ]
          },
          "metadata": {},
          "execution_count": 19
        }
      ]
    },
    {
      "cell_type": "code",
      "source": [
        "TENSOR2= torch.tensor([[[1],[2],[3],[4],[5],[6]]])\n",
        "\n",
        "TENSOR2"
      ],
      "metadata": {
        "colab": {
          "base_uri": "https://localhost:8080/"
        },
        "id": "EOQgWMdx9LUR",
        "outputId": "ad29395c-ba1c-4af7-b71e-c78517ec4918"
      },
      "execution_count": 20,
      "outputs": [
        {
          "output_type": "execute_result",
          "data": {
            "text/plain": [
              "tensor([[[1],\n",
              "         [2],\n",
              "         [3],\n",
              "         [4],\n",
              "         [5],\n",
              "         [6]]])"
            ]
          },
          "metadata": {},
          "execution_count": 20
        }
      ]
    },
    {
      "cell_type": "code",
      "source": [
        "TENSOR2.ndim"
      ],
      "metadata": {
        "colab": {
          "base_uri": "https://localhost:8080/"
        },
        "id": "JtBzKCOS94dm",
        "outputId": "033e7d90-3708-4c7e-e99b-3fc2dbcfbf4f"
      },
      "execution_count": 21,
      "outputs": [
        {
          "output_type": "execute_result",
          "data": {
            "text/plain": [
              "3"
            ]
          },
          "metadata": {},
          "execution_count": 21
        }
      ]
    },
    {
      "cell_type": "code",
      "source": [
        "TENSOR2.shape"
      ],
      "metadata": {
        "colab": {
          "base_uri": "https://localhost:8080/"
        },
        "id": "9D81NeBW9-Pu",
        "outputId": "f7315636-f701-421f-9e1b-6ea60dc31452"
      },
      "execution_count": 22,
      "outputs": [
        {
          "output_type": "execute_result",
          "data": {
            "text/plain": [
              "torch.Size([1, 6, 1])"
            ]
          },
          "metadata": {},
          "execution_count": 22
        }
      ]
    },
    {
      "cell_type": "code",
      "source": [
        "TENSOR3= torch.tensor([[[1],[2]],[[3],[4]],[[5],[6]]])\n",
        "\n",
        "TENSOR3"
      ],
      "metadata": {
        "colab": {
          "base_uri": "https://localhost:8080/"
        },
        "id": "Vtozym4W-AGB",
        "outputId": "023e36da-22e5-47b3-9b01-0fa14506b798"
      },
      "execution_count": 23,
      "outputs": [
        {
          "output_type": "execute_result",
          "data": {
            "text/plain": [
              "tensor([[[1],\n",
              "         [2]],\n",
              "\n",
              "        [[3],\n",
              "         [4]],\n",
              "\n",
              "        [[5],\n",
              "         [6]]])"
            ]
          },
          "metadata": {},
          "execution_count": 23
        }
      ]
    },
    {
      "cell_type": "code",
      "source": [
        "TENSOR3.ndim"
      ],
      "metadata": {
        "colab": {
          "base_uri": "https://localhost:8080/"
        },
        "id": "Cx3ASwSS-JUV",
        "outputId": "1b6978f9-c91f-400b-cf28-517c71a04a3f"
      },
      "execution_count": 24,
      "outputs": [
        {
          "output_type": "execute_result",
          "data": {
            "text/plain": [
              "3"
            ]
          },
          "metadata": {},
          "execution_count": 24
        }
      ]
    },
    {
      "cell_type": "code",
      "source": [
        "TENSOR3.shape"
      ],
      "metadata": {
        "colab": {
          "base_uri": "https://localhost:8080/"
        },
        "id": "rQklrw_v-MUU",
        "outputId": "75595753-f037-4e64-8c21-1f26435e9bf4"
      },
      "execution_count": 25,
      "outputs": [
        {
          "output_type": "execute_result",
          "data": {
            "text/plain": [
              "torch.Size([3, 2, 1])"
            ]
          },
          "metadata": {},
          "execution_count": 25
        }
      ]
    },
    {
      "cell_type": "markdown",
      "source": [
        "### RANDOM TENSORS"
      ],
      "metadata": {
        "id": "vFQbSwAA-NmD"
      }
    },
    {
      "cell_type": "markdown",
      "source": [
        "Random tensor are imprtant because the way many neural netowrks learn is that they start with tensors full of random numbers and then adjuct thise random numbers to better represent the data\n",
        "\n",
        "Start with random numbers -> look at data -> update random numbers -> look at data -> update random numbers\n",
        "\n",
        "torch.rand = https://pytorch.org/docs/stable/generated/torch.rand.html"
      ],
      "metadata": {
        "id": "xef4VCRl_ENw"
      }
    },
    {
      "cell_type": "code",
      "source": [
        "#Random tensors\n",
        "#Create random tensor of shape/shape (3,4)\n",
        "random_tensor = torch.rand(3,4)\n",
        "random_tensor"
      ],
      "metadata": {
        "colab": {
          "base_uri": "https://localhost:8080/"
        },
        "id": "Hen9nMhx-6LE",
        "outputId": "ed9de74a-0204-4189-9b95-740724a8764a"
      },
      "execution_count": 26,
      "outputs": [
        {
          "output_type": "execute_result",
          "data": {
            "text/plain": [
              "tensor([[0.4806, 0.1373, 0.7055, 0.4266],\n",
              "        [0.0925, 0.0427, 0.8153, 0.2280],\n",
              "        [0.0431, 0.0848, 0.0807, 0.8902]])"
            ]
          },
          "metadata": {},
          "execution_count": 26
        }
      ]
    },
    {
      "cell_type": "code",
      "source": [
        "#Create a random tensor with similar shape to an image\n",
        "random_image_size_tensor = torch.rand(size=(224,224,3)) #height,width,colour channels (R,G,B)\n",
        "random_image_size_tensor"
      ],
      "metadata": {
        "colab": {
          "base_uri": "https://localhost:8080/"
        },
        "id": "tWXI7i-f-9zv",
        "outputId": "769c58f5-49c1-4275-d60a-4312d70ed015"
      },
      "execution_count": 27,
      "outputs": [
        {
          "output_type": "execute_result",
          "data": {
            "text/plain": [
              "tensor([[[0.8425, 0.6103, 0.1470],\n",
              "         [0.8219, 0.9271, 0.0303],\n",
              "         [0.3914, 0.3230, 0.0796],\n",
              "         ...,\n",
              "         [0.2603, 0.4409, 0.6505],\n",
              "         [0.6842, 0.0301, 0.6679],\n",
              "         [0.2123, 0.2658, 0.3377]],\n",
              "\n",
              "        [[0.7156, 0.5319, 0.5325],\n",
              "         [0.4441, 0.6428, 0.7606],\n",
              "         [0.1511, 0.8403, 0.7579],\n",
              "         ...,\n",
              "         [0.6228, 0.5985, 0.3657],\n",
              "         [0.2019, 0.1137, 0.5703],\n",
              "         [0.0857, 0.2238, 0.5607]],\n",
              "\n",
              "        [[0.1505, 0.3763, 0.3318],\n",
              "         [0.7377, 0.1729, 0.3316],\n",
              "         [0.6010, 0.1379, 0.1145],\n",
              "         ...,\n",
              "         [0.8620, 0.2276, 0.6991],\n",
              "         [0.0631, 0.7611, 0.1844],\n",
              "         [0.0891, 0.0744, 0.8734]],\n",
              "\n",
              "        ...,\n",
              "\n",
              "        [[0.6355, 0.8173, 0.6402],\n",
              "         [0.7541, 0.6181, 0.0743],\n",
              "         [0.2829, 0.3923, 0.2468],\n",
              "         ...,\n",
              "         [0.5314, 0.4305, 0.4527],\n",
              "         [0.7767, 0.1120, 0.2770],\n",
              "         [0.2171, 0.9312, 0.3755]],\n",
              "\n",
              "        [[0.4058, 0.2829, 0.2311],\n",
              "         [0.9895, 0.9030, 0.8809],\n",
              "         [0.9003, 0.2815, 0.9052],\n",
              "         ...,\n",
              "         [0.6939, 0.6428, 0.4179],\n",
              "         [0.3684, 0.8538, 0.4791],\n",
              "         [0.3001, 0.3059, 0.9547]],\n",
              "\n",
              "        [[0.9833, 0.0068, 0.0032],\n",
              "         [0.1000, 0.2153, 0.1963],\n",
              "         [0.9651, 0.3105, 0.8875],\n",
              "         ...,\n",
              "         [0.3998, 0.0151, 0.9090],\n",
              "         [0.6368, 0.0132, 0.6586],\n",
              "         [0.9062, 0.5820, 0.6657]]])"
            ]
          },
          "metadata": {},
          "execution_count": 27
        }
      ]
    },
    {
      "cell_type": "markdown",
      "source": [
        "### Zeros and ones"
      ],
      "metadata": {
        "id": "2ya5zgobA951"
      }
    },
    {
      "cell_type": "code",
      "source": [
        "# Create a tensor of all zeros\n",
        "zeros = torch.zeros(3,4)\n",
        "zeros"
      ],
      "metadata": {
        "id": "lxZPMrIjbPCL",
        "outputId": "d0e31349-286a-479e-abee-5c6d4cfb568a",
        "colab": {
          "base_uri": "https://localhost:8080/"
        }
      },
      "execution_count": 28,
      "outputs": [
        {
          "output_type": "execute_result",
          "data": {
            "text/plain": [
              "tensor([[0., 0., 0., 0.],\n",
              "        [0., 0., 0., 0.],\n",
              "        [0., 0., 0., 0.]])"
            ]
          },
          "metadata": {},
          "execution_count": 28
        }
      ]
    },
    {
      "cell_type": "code",
      "source": [
        "# tensor of all ones\n",
        "ones = torch.ones(3,4)\n",
        "ones"
      ],
      "metadata": {
        "id": "ElC7bBk6bW3-",
        "outputId": "56f640fd-d71e-4535-8198-82e6999474a9",
        "colab": {
          "base_uri": "https://localhost:8080/"
        }
      },
      "execution_count": 29,
      "outputs": [
        {
          "output_type": "execute_result",
          "data": {
            "text/plain": [
              "tensor([[1., 1., 1., 1.],\n",
              "        [1., 1., 1., 1.],\n",
              "        [1., 1., 1., 1.]])"
            ]
          },
          "metadata": {},
          "execution_count": 29
        }
      ]
    },
    {
      "cell_type": "code",
      "source": [
        "ones.dtype"
      ],
      "metadata": {
        "id": "RSRZrXXLbuc4",
        "outputId": "a398fb2f-1346-4dd3-bee7-b20d35343785",
        "colab": {
          "base_uri": "https://localhost:8080/"
        }
      },
      "execution_count": 30,
      "outputs": [
        {
          "output_type": "execute_result",
          "data": {
            "text/plain": [
              "torch.float32"
            ]
          },
          "metadata": {},
          "execution_count": 30
        }
      ]
    },
    {
      "cell_type": "markdown",
      "source": [
        "### Create a range of tensors and tensors-like"
      ],
      "metadata": {
        "id": "812Fklszbvw0"
      }
    },
    {
      "cell_type": "code",
      "source": [
        "# use torch.arange()\n",
        "\n",
        "one_to_ten = torch.arange(start=0,end=1000, step=77)\n",
        "one_to_ten"
      ],
      "metadata": {
        "id": "-sCGCMCEcC7a",
        "outputId": "2839b824-29c8-4ab6-ff4a-77fc75ce5e37",
        "colab": {
          "base_uri": "https://localhost:8080/"
        }
      },
      "execution_count": 35,
      "outputs": [
        {
          "output_type": "execute_result",
          "data": {
            "text/plain": [
              "tensor([  0,  77, 154, 231, 308, 385, 462, 539, 616, 693, 770, 847, 924])"
            ]
          },
          "metadata": {},
          "execution_count": 35
        }
      ]
    },
    {
      "cell_type": "code",
      "source": [
        "# Creating tensors like\n",
        "ten_zeros = torch.zeros_like(input=one_to_ten)\n",
        "ten_zeros"
      ],
      "metadata": {
        "id": "2tCiHImIcHVf",
        "outputId": "65b08ad7-24f3-4756-e59c-36998304eea5",
        "colab": {
          "base_uri": "https://localhost:8080/"
        }
      },
      "execution_count": 36,
      "outputs": [
        {
          "output_type": "execute_result",
          "data": {
            "text/plain": [
              "tensor([0, 0, 0, 0, 0, 0, 0, 0, 0, 0, 0, 0, 0])"
            ]
          },
          "metadata": {},
          "execution_count": 36
        }
      ]
    },
    {
      "cell_type": "markdown",
      "source": [
        "### Tensor datatypes"
      ],
      "metadata": {
        "id": "LryTb1CGczTz"
      }
    },
    {
      "cell_type": "code",
      "source": [
        "#Float 32 tensor\n",
        "float_32_tensor = torch.tensor([3.0,6.0,9.0],\n",
        "                               dtype=None,\n",
        "                               device=None,\n",
        "                               requires_grad=False) #track gradiens with this tensor operations\n",
        "float_32_tensor"
      ],
      "metadata": {
        "id": "gFsWMvlwfnCn",
        "outputId": "a696a27e-77a0-494b-b818-74cc1fa3e49b",
        "colab": {
          "base_uri": "https://localhost:8080/"
        }
      },
      "execution_count": 39,
      "outputs": [
        {
          "output_type": "execute_result",
          "data": {
            "text/plain": [
              "tensor([3., 6., 9.])"
            ]
          },
          "metadata": {},
          "execution_count": 39
        }
      ]
    },
    {
      "cell_type": "code",
      "source": [
        "float_32_tensor.dtype"
      ],
      "metadata": {
        "id": "rYOC4U9jf0-4",
        "outputId": "9f656402-ef45-4526-aea8-87328bc2a800",
        "colab": {
          "base_uri": "https://localhost:8080/"
        }
      },
      "execution_count": 38,
      "outputs": [
        {
          "output_type": "execute_result",
          "data": {
            "text/plain": [
              "torch.float32"
            ]
          },
          "metadata": {},
          "execution_count": 38
        }
      ]
    },
    {
      "cell_type": "code",
      "source": [
        "float_16_tensor = float_32_tensor.type(torch.half) #torch.half = torch.float16\n",
        "float_16_tensor"
      ],
      "metadata": {
        "id": "jmHgqSF6f3hr",
        "outputId": "b6c7df23-1ddb-4b7b-8a15-f8063228727f",
        "colab": {
          "base_uri": "https://localhost:8080/"
        }
      },
      "execution_count": 41,
      "outputs": [
        {
          "output_type": "execute_result",
          "data": {
            "text/plain": [
              "tensor([3., 6., 9.], dtype=torch.float16)"
            ]
          },
          "metadata": {},
          "execution_count": 41
        }
      ]
    },
    {
      "cell_type": "code",
      "source": [
        "float_16_tensor * float_32_tensor"
      ],
      "metadata": {
        "id": "svz_6uIAhpd6",
        "outputId": "4f3fe4b2-8149-49db-ed69-4870f93d6a46",
        "colab": {
          "base_uri": "https://localhost:8080/"
        }
      },
      "execution_count": 42,
      "outputs": [
        {
          "output_type": "execute_result",
          "data": {
            "text/plain": [
              "tensor([ 9., 36., 81.])"
            ]
          },
          "metadata": {},
          "execution_count": 42
        }
      ]
    },
    {
      "cell_type": "code",
      "source": [
        "int_32_tensor = torch.tensor([3,6,9],dtype=torch.int32)\n",
        "int_32_tensor"
      ],
      "metadata": {
        "id": "XqLJrBDEiMCq",
        "outputId": "013af54b-06d3-4169-e8cf-bb41a04780d3",
        "colab": {
          "base_uri": "https://localhost:8080/"
        }
      },
      "execution_count": 43,
      "outputs": [
        {
          "output_type": "execute_result",
          "data": {
            "text/plain": [
              "tensor([3, 6, 9], dtype=torch.int32)"
            ]
          },
          "metadata": {},
          "execution_count": 43
        }
      ]
    },
    {
      "cell_type": "code",
      "source": [
        "float_32_tensor*int_32_tensor"
      ],
      "metadata": {
        "id": "NDuNCynxiZhF",
        "outputId": "1b92665b-5383-498a-9d49-8e6b84bf0cbf",
        "colab": {
          "base_uri": "https://localhost:8080/"
        }
      },
      "execution_count": 45,
      "outputs": [
        {
          "output_type": "execute_result",
          "data": {
            "text/plain": [
              "tensor([ 9., 36., 81.])"
            ]
          },
          "metadata": {},
          "execution_count": 45
        }
      ]
    },
    {
      "cell_type": "markdown",
      "source": [
        "### Getting infromation from tensors"
      ],
      "metadata": {
        "id": "gwf41d39icSc"
      }
    },
    {
      "cell_type": "markdown",
      "source": [
        "tensor.dtype\n",
        "tensor.shape\n",
        "tensor.device"
      ],
      "metadata": {
        "id": "nxmPxH8Ji1xl"
      }
    },
    {
      "cell_type": "code",
      "source": [
        "#some tensor\n",
        "some_tensor = torch.rand(3,4)"
      ],
      "metadata": {
        "id": "gdb6c5yujC2d"
      },
      "execution_count": 47,
      "outputs": []
    },
    {
      "cell_type": "code",
      "source": [
        "print(some_tensor)"
      ],
      "metadata": {
        "id": "DNJqVY9ZjK6J",
        "outputId": "d4775b83-8a28-4dc7-c047-9095d5dc6ce0",
        "colab": {
          "base_uri": "https://localhost:8080/"
        }
      },
      "execution_count": 48,
      "outputs": [
        {
          "output_type": "stream",
          "name": "stdout",
          "text": [
            "tensor([[0.0220, 0.1181, 0.1667, 0.6485],\n",
            "        [0.5213, 0.6013, 0.2328, 0.2983],\n",
            "        [0.7308, 0.0950, 0.9070, 0.6362]])\n"
          ]
        }
      ]
    },
    {
      "cell_type": "code",
      "source": [
        "print(some_tensor.dtype)"
      ],
      "metadata": {
        "id": "rQVUofyKjPUX",
        "outputId": "f15a489b-428d-4ebc-eb13-c124c12567ef",
        "colab": {
          "base_uri": "https://localhost:8080/"
        }
      },
      "execution_count": 49,
      "outputs": [
        {
          "output_type": "stream",
          "name": "stdout",
          "text": [
            "torch.float32\n"
          ]
        }
      ]
    },
    {
      "cell_type": "code",
      "source": [
        "print(some_tensor.shape)"
      ],
      "metadata": {
        "id": "OeSRHbqxjR2V",
        "outputId": "c2443825-a08e-4b9a-b03e-2c79409cf4e1",
        "colab": {
          "base_uri": "https://localhost:8080/"
        }
      },
      "execution_count": 50,
      "outputs": [
        {
          "output_type": "stream",
          "name": "stdout",
          "text": [
            "torch.Size([3, 4])\n"
          ]
        }
      ]
    },
    {
      "cell_type": "code",
      "source": [
        "print(some_tensor.device)"
      ],
      "metadata": {
        "id": "kr5eX0EBjUtC",
        "outputId": "f11083f6-79f2-4e30-f1c6-40512ebd8f0b",
        "colab": {
          "base_uri": "https://localhost:8080/"
        }
      },
      "execution_count": 51,
      "outputs": [
        {
          "output_type": "stream",
          "name": "stdout",
          "text": [
            "cpu\n"
          ]
        }
      ]
    },
    {
      "cell_type": "markdown",
      "source": [
        "### Manipulating tensor (tensor operations)\n",
        "\n",
        "operations include:\n",
        "* Addition\n",
        "* Substraction\n",
        "* Multiplication (element-wise)\n",
        "* Division\n",
        "* Matrix multplication"
      ],
      "metadata": {
        "id": "QGHwtz5WjYHl"
      }
    },
    {
      "cell_type": "code",
      "source": [
        "tensor = torch.tensor([1,2,3])\n",
        "tensor + 10"
      ],
      "metadata": {
        "id": "ijOSDRN2kIp6",
        "outputId": "20fc5931-d4ca-4826-c944-eeb28f88458b",
        "colab": {
          "base_uri": "https://localhost:8080/"
        }
      },
      "execution_count": 54,
      "outputs": [
        {
          "output_type": "execute_result",
          "data": {
            "text/plain": [
              "tensor([11, 12, 13])"
            ]
          },
          "metadata": {},
          "execution_count": 54
        }
      ]
    },
    {
      "cell_type": "code",
      "source": [
        "tensor * 10"
      ],
      "metadata": {
        "id": "Mu9uP3gBknNx",
        "outputId": "7989a981-7393-4642-de28-0459f7feb287",
        "colab": {
          "base_uri": "https://localhost:8080/"
        }
      },
      "execution_count": 55,
      "outputs": [
        {
          "output_type": "execute_result",
          "data": {
            "text/plain": [
              "tensor([10, 20, 30])"
            ]
          },
          "metadata": {},
          "execution_count": 55
        }
      ]
    },
    {
      "cell_type": "code",
      "source": [
        "#Try out PyTorch inbuilt fucntions\n",
        "torch.mul(tensor,10)"
      ],
      "metadata": {
        "id": "rcxaJ_ZslAYp",
        "outputId": "98f745f0-2c75-401d-d669-91743339fac8",
        "colab": {
          "base_uri": "https://localhost:8080/"
        }
      },
      "execution_count": 56,
      "outputs": [
        {
          "output_type": "execute_result",
          "data": {
            "text/plain": [
              "tensor([10, 20, 30])"
            ]
          },
          "metadata": {},
          "execution_count": 56
        }
      ]
    },
    {
      "cell_type": "code",
      "source": [],
      "metadata": {
        "id": "Gs4wj8WXlSBn"
      },
      "execution_count": null,
      "outputs": []
    }
  ]
}
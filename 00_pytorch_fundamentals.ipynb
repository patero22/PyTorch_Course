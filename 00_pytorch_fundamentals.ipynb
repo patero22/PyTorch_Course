{
  "nbformat": 4,
  "nbformat_minor": 0,
  "metadata": {
    "colab": {
      "provenance": [],
      "authorship_tag": "ABX9TyOQndc/P07swRC4gsfIPbA+",
      "include_colab_link": true
    },
    "kernelspec": {
      "name": "python3",
      "display_name": "Python 3"
    },
    "language_info": {
      "name": "python"
    }
  },
  "cells": [
    {
      "cell_type": "markdown",
      "metadata": {
        "id": "view-in-github",
        "colab_type": "text"
      },
      "source": [
        "<a href=\"https://colab.research.google.com/github/patero22/PyTorch_Course/blob/main/00_pytorch_fundamentals.ipynb\" target=\"_parent\"><img src=\"https://colab.research.google.com/assets/colab-badge.svg\" alt=\"Open In Colab\"/></a>"
      ]
    },
    {
      "cell_type": "markdown",
      "source": [
        "## 00 PyTorch Fundamentals\n",
        "resource notebook: https://www.learnpytorch.io/00_pytorch_fundamentals/\n",
        "\n",
        "Questions on github/discussions"
      ],
      "metadata": {
        "id": "O4CiqHZG4D1D"
      }
    },
    {
      "cell_type": "code",
      "source": [
        "print(\"Pytorch\")"
      ],
      "metadata": {
        "colab": {
          "base_uri": "https://localhost:8080/"
        },
        "id": "ac53C0pv4zBg",
        "outputId": "8546d1eb-330b-4631-ef1a-86fe1663a545"
      },
      "execution_count": null,
      "outputs": [
        {
          "output_type": "stream",
          "name": "stdout",
          "text": [
            "Pytorch\n"
          ]
        }
      ]
    },
    {
      "cell_type": "code",
      "source": [
        "!/usr/local/cuda/bin/nvcc --version\n"
      ],
      "metadata": {
        "colab": {
          "base_uri": "https://localhost:8080/"
        },
        "id": "9MtvonN51VnA",
        "outputId": "6423b82e-b730-4a00-9caa-5ff4a13622f7"
      },
      "execution_count": null,
      "outputs": [
        {
          "output_type": "stream",
          "name": "stdout",
          "text": [
            "nvcc: NVIDIA (R) Cuda compiler driver\n",
            "Copyright (c) 2005-2023 NVIDIA Corporation\n",
            "Built on Tue_Aug_15_22:02:13_PDT_2023\n",
            "Cuda compilation tools, release 12.2, V12.2.140\n",
            "Build cuda_12.2.r12.2/compiler.33191640_0\n",
            "/bin/bash: line 1: nvidia-smi: command not found\n"
          ]
        }
      ]
    },
    {
      "cell_type": "code",
      "source": [
        "!nvidia-smi #zmienione w runtime type na t4 gpu"
      ],
      "metadata": {
        "colab": {
          "base_uri": "https://localhost:8080/"
        },
        "id": "WV7Q8-ao3Ftq",
        "outputId": "5d9c6040-7701-45ec-cff5-2096f0f1364e"
      },
      "execution_count": null,
      "outputs": [
        {
          "output_type": "stream",
          "name": "stdout",
          "text": [
            "Mon Jul  1 19:57:51 2024       \n",
            "+---------------------------------------------------------------------------------------+\n",
            "| NVIDIA-SMI 535.104.05             Driver Version: 535.104.05   CUDA Version: 12.2     |\n",
            "|-----------------------------------------+----------------------+----------------------+\n",
            "| GPU  Name                 Persistence-M | Bus-Id        Disp.A | Volatile Uncorr. ECC |\n",
            "| Fan  Temp   Perf          Pwr:Usage/Cap |         Memory-Usage | GPU-Util  Compute M. |\n",
            "|                                         |                      |               MIG M. |\n",
            "|=========================================+======================+======================|\n",
            "|   0  Tesla T4                       Off | 00000000:00:04.0 Off |                    0 |\n",
            "| N/A   66C    P8              11W /  70W |      0MiB / 15360MiB |      0%      Default |\n",
            "|                                         |                      |                  N/A |\n",
            "+-----------------------------------------+----------------------+----------------------+\n",
            "                                                                                         \n",
            "+---------------------------------------------------------------------------------------+\n",
            "| Processes:                                                                            |\n",
            "|  GPU   GI   CI        PID   Type   Process name                            GPU Memory |\n",
            "|        ID   ID                                                             Usage      |\n",
            "|=======================================================================================|\n",
            "|  No running processes found                                                           |\n",
            "+---------------------------------------------------------------------------------------+\n"
          ]
        }
      ]
    },
    {
      "cell_type": "code",
      "source": [
        "import pandas as pd\n",
        "import numpy as np\n",
        "import matplotlib.pyplot as plt\n",
        "import torch\n",
        "print(torch.__version__)\n"
      ],
      "metadata": {
        "colab": {
          "base_uri": "https://localhost:8080/"
        },
        "id": "oC_fJe_K3lN1",
        "outputId": "f8363203-2d96-460e-f870-b7da8854e415"
      },
      "execution_count": null,
      "outputs": [
        {
          "output_type": "stream",
          "name": "stdout",
          "text": [
            "2.3.0+cu121\n"
          ]
        }
      ]
    },
    {
      "cell_type": "markdown",
      "source": [
        "## Introduction to tensors\n",
        "Creating tensors\n",
        "\n",
        "PyTorch tensor are created using 'troch.Tensor()' -= https://pytorch.org/docs/stable/tensors.html"
      ],
      "metadata": {
        "id": "336FKeOE6aWv"
      }
    },
    {
      "cell_type": "code",
      "source": [
        "#scalar\n",
        "scalar = torch.tensor(7)\n",
        "scalar"
      ],
      "metadata": {
        "colab": {
          "base_uri": "https://localhost:8080/"
        },
        "id": "_yv1NNtn6j2h",
        "outputId": "feb72712-dd9c-42d4-c438-1e2be4343922"
      },
      "execution_count": null,
      "outputs": [
        {
          "output_type": "execute_result",
          "data": {
            "text/plain": [
              "tensor(7)"
            ]
          },
          "metadata": {},
          "execution_count": 2
        }
      ]
    },
    {
      "cell_type": "code",
      "source": [
        "scalar.ndim"
      ],
      "metadata": {
        "colab": {
          "base_uri": "https://localhost:8080/"
        },
        "id": "3sk7MPy36nsJ",
        "outputId": "1518e63c-8f52-4b0b-c3eb-e27d5dc2b905"
      },
      "execution_count": null,
      "outputs": [
        {
          "output_type": "execute_result",
          "data": {
            "text/plain": [
              "0"
            ]
          },
          "metadata": {},
          "execution_count": 3
        }
      ]
    },
    {
      "cell_type": "code",
      "source": [
        "# Get tensor back as Python int\n",
        "scalar.item()"
      ],
      "metadata": {
        "colab": {
          "base_uri": "https://localhost:8080/"
        },
        "id": "HhNbfpn37Gpn",
        "outputId": "6dac66e8-b294-48b3-d211-9bf90bb164d5"
      },
      "execution_count": null,
      "outputs": [
        {
          "output_type": "execute_result",
          "data": {
            "text/plain": [
              "7"
            ]
          },
          "metadata": {},
          "execution_count": 5
        }
      ]
    },
    {
      "cell_type": "code",
      "source": [
        "#Vector\n",
        "vector = torch.tensor([7,7])\n",
        "vector"
      ],
      "metadata": {
        "colab": {
          "base_uri": "https://localhost:8080/"
        },
        "id": "Ke6wLUZW7hKq",
        "outputId": "e9f87406-c991-47be-c662-c3ddfde99f72"
      },
      "execution_count": null,
      "outputs": [
        {
          "output_type": "execute_result",
          "data": {
            "text/plain": [
              "tensor([7, 7])"
            ]
          },
          "metadata": {},
          "execution_count": 6
        }
      ]
    },
    {
      "cell_type": "code",
      "source": [
        "vector.ndim"
      ],
      "metadata": {
        "colab": {
          "base_uri": "https://localhost:8080/"
        },
        "id": "5Xg7KsAt71Iw",
        "outputId": "eefa9d63-48b2-4bee-f6fe-15430130e19d"
      },
      "execution_count": null,
      "outputs": [
        {
          "output_type": "execute_result",
          "data": {
            "text/plain": [
              "1"
            ]
          },
          "metadata": {},
          "execution_count": 7
        }
      ]
    },
    {
      "cell_type": "code",
      "source": [
        "vector.shape"
      ],
      "metadata": {
        "colab": {
          "base_uri": "https://localhost:8080/"
        },
        "id": "roKgcmCi72YN",
        "outputId": "d20adcef-876f-458b-bfbd-1444eec3ba3c"
      },
      "execution_count": null,
      "outputs": [
        {
          "output_type": "execute_result",
          "data": {
            "text/plain": [
              "torch.Size([2])"
            ]
          },
          "metadata": {},
          "execution_count": 8
        }
      ]
    },
    {
      "cell_type": "code",
      "source": [
        "# MATRIX\n",
        "MATRIX = torch.tensor([[7,8],\n",
        "                        [9,10]])\n",
        "MATRIX"
      ],
      "metadata": {
        "colab": {
          "base_uri": "https://localhost:8080/"
        },
        "id": "-_7XVRkB77He",
        "outputId": "1c190620-aeea-4b22-eec2-dd3041131845"
      },
      "execution_count": null,
      "outputs": [
        {
          "output_type": "execute_result",
          "data": {
            "text/plain": [
              "tensor([[ 7,  8],\n",
              "        [ 9, 10]])"
            ]
          },
          "metadata": {},
          "execution_count": 9
        }
      ]
    },
    {
      "cell_type": "code",
      "source": [
        "MATRIX.ndim"
      ],
      "metadata": {
        "colab": {
          "base_uri": "https://localhost:8080/"
        },
        "id": "z5cadXgd8MpT",
        "outputId": "2a1169a3-9f28-4ce0-a9ab-d5f1ea620b48"
      },
      "execution_count": null,
      "outputs": [
        {
          "output_type": "execute_result",
          "data": {
            "text/plain": [
              "2"
            ]
          },
          "metadata": {},
          "execution_count": 10
        }
      ]
    },
    {
      "cell_type": "code",
      "source": [
        "MATRIX.shape"
      ],
      "metadata": {
        "colab": {
          "base_uri": "https://localhost:8080/"
        },
        "id": "vXt7RUCc8Spd",
        "outputId": "3b64451c-d67f-4e8f-eeae-1b7d84834025"
      },
      "execution_count": null,
      "outputs": [
        {
          "output_type": "execute_result",
          "data": {
            "text/plain": [
              "torch.Size([2, 2])"
            ]
          },
          "metadata": {},
          "execution_count": 11
        }
      ]
    },
    {
      "cell_type": "code",
      "source": [
        "# Tensor\n",
        "TENSOR = torch.tensor([[[1,2,3],\n",
        "                        [4,5,6],\n",
        "                        [7,8,9]]])\n",
        "\n",
        "TENSOR"
      ],
      "metadata": {
        "colab": {
          "base_uri": "https://localhost:8080/"
        },
        "id": "ZhudR6_P8Ynr",
        "outputId": "630b5b31-ede6-499c-fc06-7a04ea96867e"
      },
      "execution_count": null,
      "outputs": [
        {
          "output_type": "execute_result",
          "data": {
            "text/plain": [
              "tensor([[[1, 2, 3],\n",
              "         [4, 5, 6],\n",
              "         [7, 8, 9]]])"
            ]
          },
          "metadata": {},
          "execution_count": 12
        }
      ]
    },
    {
      "cell_type": "code",
      "source": [
        "TENSOR.ndim"
      ],
      "metadata": {
        "colab": {
          "base_uri": "https://localhost:8080/"
        },
        "id": "6TcSP-UT82bs",
        "outputId": "6c83d755-b49c-4177-8efc-e4c083df74e8"
      },
      "execution_count": null,
      "outputs": [
        {
          "output_type": "execute_result",
          "data": {
            "text/plain": [
              "3"
            ]
          },
          "metadata": {},
          "execution_count": 13
        }
      ]
    },
    {
      "cell_type": "code",
      "source": [
        "TENSOR.shape"
      ],
      "metadata": {
        "colab": {
          "base_uri": "https://localhost:8080/"
        },
        "id": "xWnWIF1n89RS",
        "outputId": "96499a12-7efc-4de3-92c1-a48f7b32992c"
      },
      "execution_count": null,
      "outputs": [
        {
          "output_type": "execute_result",
          "data": {
            "text/plain": [
              "torch.Size([1, 3, 3])"
            ]
          },
          "metadata": {},
          "execution_count": 14
        }
      ]
    },
    {
      "cell_type": "code",
      "source": [
        "TENSOR[0]"
      ],
      "metadata": {
        "colab": {
          "base_uri": "https://localhost:8080/"
        },
        "id": "AFTXJs058-R3",
        "outputId": "197cf0db-23c3-43c1-a802-8c3de70ba0fe"
      },
      "execution_count": null,
      "outputs": [
        {
          "output_type": "execute_result",
          "data": {
            "text/plain": [
              "tensor([[1, 2, 3],\n",
              "        [4, 5, 6],\n",
              "        [7, 8, 9]])"
            ]
          },
          "metadata": {},
          "execution_count": 15
        }
      ]
    },
    {
      "cell_type": "code",
      "source": [
        "TENSOR2= torch.tensor([[[1],[2],[3],[4],[5],[6]]])\n",
        "\n",
        "TENSOR2"
      ],
      "metadata": {
        "colab": {
          "base_uri": "https://localhost:8080/"
        },
        "id": "EOQgWMdx9LUR",
        "outputId": "d4897988-c0cd-4e54-e8ef-f3f1f2bb15c8"
      },
      "execution_count": null,
      "outputs": [
        {
          "output_type": "execute_result",
          "data": {
            "text/plain": [
              "tensor([[[1],\n",
              "         [2],\n",
              "         [3],\n",
              "         [4],\n",
              "         [5],\n",
              "         [6]]])"
            ]
          },
          "metadata": {},
          "execution_count": 19
        }
      ]
    },
    {
      "cell_type": "code",
      "source": [
        "TENSOR2.ndim"
      ],
      "metadata": {
        "colab": {
          "base_uri": "https://localhost:8080/"
        },
        "id": "JtBzKCOS94dm",
        "outputId": "d45d78a7-bffa-443c-9080-2d5fcdaf2ff4"
      },
      "execution_count": null,
      "outputs": [
        {
          "output_type": "execute_result",
          "data": {
            "text/plain": [
              "3"
            ]
          },
          "metadata": {},
          "execution_count": 17
        }
      ]
    },
    {
      "cell_type": "code",
      "source": [
        "TENSOR2.shape"
      ],
      "metadata": {
        "colab": {
          "base_uri": "https://localhost:8080/"
        },
        "id": "9D81NeBW9-Pu",
        "outputId": "c7ffd5c0-0c23-4dee-9799-ad88d3b30708"
      },
      "execution_count": null,
      "outputs": [
        {
          "output_type": "execute_result",
          "data": {
            "text/plain": [
              "torch.Size([1, 6, 1])"
            ]
          },
          "metadata": {},
          "execution_count": 18
        }
      ]
    },
    {
      "cell_type": "code",
      "source": [
        "TENSOR3= torch.tensor([[[1],[2]],[[3],[4]],[[5],[6]]])\n",
        "\n",
        "TENSOR3"
      ],
      "metadata": {
        "colab": {
          "base_uri": "https://localhost:8080/"
        },
        "id": "Vtozym4W-AGB",
        "outputId": "96f53162-3730-45a7-c22f-1ec4b0d84da6"
      },
      "execution_count": null,
      "outputs": [
        {
          "output_type": "execute_result",
          "data": {
            "text/plain": [
              "tensor([[[1],\n",
              "         [2]],\n",
              "\n",
              "        [[3],\n",
              "         [4]],\n",
              "\n",
              "        [[5],\n",
              "         [6]]])"
            ]
          },
          "metadata": {},
          "execution_count": 20
        }
      ]
    },
    {
      "cell_type": "code",
      "source": [
        "TENSOR3.ndim"
      ],
      "metadata": {
        "colab": {
          "base_uri": "https://localhost:8080/"
        },
        "id": "Cx3ASwSS-JUV",
        "outputId": "e5f85300-f392-444b-c192-4b18e8c5a61d"
      },
      "execution_count": null,
      "outputs": [
        {
          "output_type": "execute_result",
          "data": {
            "text/plain": [
              "3"
            ]
          },
          "metadata": {},
          "execution_count": 21
        }
      ]
    },
    {
      "cell_type": "code",
      "source": [
        "TENSOR3.shape"
      ],
      "metadata": {
        "colab": {
          "base_uri": "https://localhost:8080/"
        },
        "id": "rQklrw_v-MUU",
        "outputId": "9e9659f6-ce41-4b2e-db93-1756e9e739cd"
      },
      "execution_count": null,
      "outputs": [
        {
          "output_type": "execute_result",
          "data": {
            "text/plain": [
              "torch.Size([3, 2, 1])"
            ]
          },
          "metadata": {},
          "execution_count": 22
        }
      ]
    },
    {
      "cell_type": "markdown",
      "source": [
        "### RANDOM TENSORS"
      ],
      "metadata": {
        "id": "vFQbSwAA-NmD"
      }
    },
    {
      "cell_type": "markdown",
      "source": [
        "Random tensor are imprtant because the way many neural netowrks learn is that they start with tensors full of random numbers and then adjuct thise random numbers to better represent the data\n",
        "\n",
        "Start with random numbers -> look at data -> update random numbers -> look at data -> update random numbers\n",
        "\n",
        "torch.rand = https://pytorch.org/docs/stable/generated/torch.rand.html"
      ],
      "metadata": {
        "id": "xef4VCRl_ENw"
      }
    },
    {
      "cell_type": "code",
      "source": [
        "#Random tensors\n",
        "#Create random tensor of shape/shape (3,4)\n",
        "random_tensor = torch.rand(3,4)\n",
        "random_tensor"
      ],
      "metadata": {
        "colab": {
          "base_uri": "https://localhost:8080/"
        },
        "id": "Hen9nMhx-6LE",
        "outputId": "b7beb2dd-f4c3-43b7-9528-0db49a070d65"
      },
      "execution_count": null,
      "outputs": [
        {
          "output_type": "execute_result",
          "data": {
            "text/plain": [
              "tensor([[0.2745, 0.4793, 0.9973, 0.6225],\n",
              "        [0.8652, 0.1665, 0.9228, 0.1242],\n",
              "        [0.6973, 0.5892, 0.3153, 0.4121]])"
            ]
          },
          "metadata": {},
          "execution_count": 26
        }
      ]
    },
    {
      "cell_type": "code",
      "source": [
        "#Create a random tensor with similar shape to an image\n",
        "random_image_size_tensor = torch.rand(size=(224,224,3)) #height,width,colour channels (R,G,B)\n",
        "random_image_size_tensor"
      ],
      "metadata": {
        "colab": {
          "base_uri": "https://localhost:8080/"
        },
        "id": "tWXI7i-f-9zv",
        "outputId": "7d4a8e93-9e54-4c13-d04d-a61d8d579d4e"
      },
      "execution_count": null,
      "outputs": [
        {
          "output_type": "execute_result",
          "data": {
            "text/plain": [
              "tensor([[[0.0241, 0.7350, 0.8997],\n",
              "         [0.8852, 0.7360, 0.4169],\n",
              "         [0.6262, 0.0778, 0.8226],\n",
              "         ...,\n",
              "         [0.6019, 0.3599, 0.5590],\n",
              "         [0.6841, 0.0796, 0.1399],\n",
              "         [0.3175, 0.8301, 0.8749]],\n",
              "\n",
              "        [[0.2790, 0.1734, 0.0384],\n",
              "         [0.0655, 0.7959, 0.6559],\n",
              "         [0.7028, 0.7671, 0.8235],\n",
              "         ...,\n",
              "         [0.7986, 0.6062, 0.2393],\n",
              "         [0.2707, 0.4032, 0.6545],\n",
              "         [0.0534, 0.8110, 0.6434]],\n",
              "\n",
              "        [[0.2604, 0.0465, 0.4335],\n",
              "         [0.5778, 0.6353, 0.3369],\n",
              "         [0.0908, 0.2138, 0.1683],\n",
              "         ...,\n",
              "         [0.2226, 0.3799, 0.5368],\n",
              "         [0.3197, 0.5632, 0.5155],\n",
              "         [0.7979, 0.5702, 0.3484]],\n",
              "\n",
              "        ...,\n",
              "\n",
              "        [[0.2828, 0.2514, 0.2314],\n",
              "         [0.7709, 0.8374, 0.8630],\n",
              "         [0.3331, 0.7585, 0.7807],\n",
              "         ...,\n",
              "         [0.6613, 0.6435, 0.6397],\n",
              "         [0.3376, 0.4185, 0.8338],\n",
              "         [0.5712, 0.4700, 0.8880]],\n",
              "\n",
              "        [[0.3402, 0.2595, 0.0960],\n",
              "         [0.5096, 0.9947, 0.4674],\n",
              "         [0.6982, 0.5232, 0.1468],\n",
              "         ...,\n",
              "         [0.5303, 0.7022, 0.0329],\n",
              "         [0.4795, 0.4250, 0.5444],\n",
              "         [0.2648, 0.7949, 0.9882]],\n",
              "\n",
              "        [[0.3858, 0.1048, 0.0552],\n",
              "         [0.5632, 0.6224, 0.1478],\n",
              "         [0.7078, 0.7033, 0.2020],\n",
              "         ...,\n",
              "         [0.0239, 0.3284, 0.5131],\n",
              "         [0.7484, 0.7125, 0.8399],\n",
              "         [0.6484, 0.8721, 0.6649]]])"
            ]
          },
          "metadata": {},
          "execution_count": 29
        }
      ]
    },
    {
      "cell_type": "code",
      "source": [],
      "metadata": {
        "id": "2ya5zgobA951"
      },
      "execution_count": null,
      "outputs": []
    }
  ]
}